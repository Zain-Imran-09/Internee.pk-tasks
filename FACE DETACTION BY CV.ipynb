{
 "cells": [
  {
   "cell_type": "code",
   "execution_count": 1,
   "id": "3e404ef4",
   "metadata": {},
   "outputs": [],
   "source": [
    "import cv2 as cv\n",
    "import numpy as np"
   ]
  },
  {
   "cell_type": "code",
   "execution_count": 2,
   "id": "0e63c0cc",
   "metadata": {},
   "outputs": [
    {
     "name": "stdout",
     "output_type": "stream",
     "text": [
      "4.9.0\n"
     ]
    }
   ],
   "source": [
    "print(cv.__version__)"
   ]
  },
  {
   "cell_type": "code",
   "execution_count": 3,
   "id": "f5b19b5a",
   "metadata": {},
   "outputs": [
    {
     "name": "stdout",
     "output_type": "stream",
     "text": [
      "[[ 68  70  73 ...  85  86  86]\n",
      " [ 68  70  73 ...  89  89  89]\n",
      " [ 69  71  74 ...  92  92  93]\n",
      " ...\n",
      " [ 53  39  27 ... 153 152 152]\n",
      " [ 51  46  37 ... 153 152 152]\n",
      " [ 47  52  45 ... 153 152 152]]\n"
     ]
    }
   ],
   "source": [
    "img = cv.imread('test.jpg',0) \n",
    "print(img)"
   ]
  },
  {
   "cell_type": "code",
   "execution_count": 4,
   "id": "1dc1a342",
   "metadata": {},
   "outputs": [],
   "source": [
    "cv.imshow('person', img)\n",
    "cv.waitKey(0)\n",
    "cv.destroyAllWindows()"
   ]
  },
  {
   "cell_type": "code",
   "execution_count": 9,
   "id": "79db60a0",
   "metadata": {},
   "outputs": [
    {
     "name": "stdout",
     "output_type": "stream",
     "text": [
      "[[138 109 208 208]]\n",
      "\r\n",
      "Number of faces found = 1\n"
     ]
    }
   ],
   "source": [
    "trainedData = cv.CascadeClassifier('haarcascade_frontalface_default.xml')\n",
    "image = cv.imread('samplelady.jpg')\n",
    "#image = cv.imread('sample2.jpg')\n",
    "gray = cv.cvtColor(image, cv.COLOR_BGR2GRAY)\n",
    "faceCoord = trainedData.detectMultiScale(gray)\n",
    "print(faceCoord)\n",
    "print(\"\\r\")\n",
    "print(f'Number of faces found = {len(faceCoord)}')\n",
    "for x,y,w,h in faceCoord:\n",
    "    cv.rectangle(image, (x,y), (x+w, y+h), (0,255,0), 2)\n",
    "cv.imshow('Face Detection', image)\n",
    "cv.waitKey()\n",
    "cv.destroyAllWindows()"
   ]
  },
  {
   "cell_type": "code",
   "execution_count": null,
   "id": "f3b31df0",
   "metadata": {},
   "outputs": [],
   "source": []
  }
 ],
 "metadata": {
  "kernelspec": {
   "display_name": "Python 3 (ipykernel)",
   "language": "python",
   "name": "python3"
  },
  "language_info": {
   "codemirror_mode": {
    "name": "ipython",
    "version": 3
   },
   "file_extension": ".py",
   "mimetype": "text/x-python",
   "name": "python",
   "nbconvert_exporter": "python",
   "pygments_lexer": "ipython3",
   "version": "3.11.5"
  }
 },
 "nbformat": 4,
 "nbformat_minor": 5
}
